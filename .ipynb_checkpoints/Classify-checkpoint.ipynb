{
 "cells": [
  {
   "cell_type": "markdown",
   "metadata": {},
   "source": [
    "# Algoritimo de classificação de texto "
   ]
  },
  {
   "cell_type": "raw",
   "metadata": {},
   "source": [
    "Documentação da biblioteca nltk: https://www.nltk.org/\n",
    "Artigo base: https://www.linkedin.com/pulse/classifica%C3%A7%C3%A3o-de-textos-em-python-luiz-felipe-araujo-nunes/"
   ]
  },
  {
   "cell_type": "raw",
   "metadata": {},
   "source": [
    "# Importamos a biblioteca nltk"
   ]
  },
  {
   "cell_type": "code",
   "execution_count": 41,
   "metadata": {
    "collapsed": true
   },
   "outputs": [],
   "source": [
    "import nltk \n",
    "from nltk.stem import RSLPStemmer\n"
   ]
  },
  {
   "cell_type": "markdown",
   "metadata": {},
   "source": [
    "#Função para 'tokenizar'as palavras da frase"
   ]
  },
  {
   "cell_type": "code",
   "execution_count": 42,
   "metadata": {
    "collapsed": true
   },
   "outputs": [],
   "source": [
    "def Tokenize(sentence):\n",
    "    sentence = sentence.lower()\n",
    "    sentence = nltk.word_tokenize(sentence)\n",
    "    return sentence"
   ]
  },
  {
   "cell_type": "code",
   "execution_count": 45,
   "metadata": {},
   "outputs": [
    {
     "name": "stdout",
     "output_type": "stream",
     "text": [
      "['você', 'comprou', 'o', 'livro', 'que', 'eu', 'te', 'falei', ',', 'maria', '?']\n",
      "['eu', 'comprei', 'o', 'livro', 'que', 'eu', 'te', 'falei', ',', 'maria', '?']\n"
     ]
    }
   ],
   "source": [
    "ex1 = \"Você comprou o livro que eu te falei, Maria?\"\n",
    "ex2 = \"Eu comprei o livro que eu te falei, Maria?\"\n",
    "ex1 = Tokenize(ex1)\n",
    "ex2 = Tokenize(ex2)\n",
    "print(ex1)\n",
    "print(ex2)\n"
   ]
  },
  {
   "cell_type": "markdown",
   "metadata": {},
   "source": [
    "#Função para reduzir as palavras"
   ]
  },
  {
   "cell_type": "code",
   "execution_count": 9,
   "metadata": {
    "collapsed": true
   },
   "outputs": [],
   "source": [
    "def Stemming(sentence):\n",
    "    stemmer = RSLPStemmer()\n",
    "    phrase = []\n",
    "    for word in sentence:\n",
    "        phrase.append(stemmer.stem(word.lower()))\n",
    "    return phrase"
   ]
  },
  {
   "cell_type": "code",
   "execution_count": 46,
   "metadata": {},
   "outputs": [
    {
     "name": "stdout",
     "output_type": "stream",
     "text": [
      "['voc', 'compr', 'o', 'livr', 'que', 'eu', 'te', 'fal', ',', 'mar', '?']\n",
      "['eu', 'compr', 'o', 'livr', 'que', 'eu', 'te', 'fal', ',', 'mar', '?']\n"
     ]
    }
   ],
   "source": [
    "ex1 = Stemming(ex1)\n",
    "ex2 = Stemming(ex2)\n",
    "print(ex1)\n",
    "print(ex2)"
   ]
  },
  {
   "cell_type": "markdown",
   "metadata": {},
   "source": [
    "#Removeremos palavras que não são essenciais "
   ]
  },
  {
   "cell_type": "code",
   "execution_count": 11,
   "metadata": {
    "collapsed": true
   },
   "outputs": [],
   "source": [
    "def RemoveStopWords(sentence):\n",
    "    stopwords = nltk.corpus.stopwords.words('portuguese')\n",
    "    phrase = []\n",
    "    for word in sentence:\n",
    "        if word not in stopwords:\n",
    "            phrase.append(word)\n",
    "    return phrase\n"
   ]
  },
  {
   "cell_type": "code",
   "execution_count": 47,
   "metadata": {},
   "outputs": [
    {
     "name": "stdout",
     "output_type": "stream",
     "text": [
      "['voc', 'compr', 'livr', 'fal', ',', 'mar', '?']\n",
      "['compr', 'livr', 'fal', ',', 'mar', '?']\n"
     ]
    }
   ],
   "source": [
    "ex1 = RemoveStopWords(ex1)\n",
    "ex2 = RemoveStopWords(ex2)\n",
    "print(ex1)\n",
    "print(ex2)"
   ]
  },
  {
   "cell_type": "markdown",
   "metadata": {},
   "source": [
    "#Stopwords padrões "
   ]
  },
  {
   "cell_type": "code",
   "execution_count": 48,
   "metadata": {},
   "outputs": [
    {
     "name": "stdout",
     "output_type": "stream",
     "text": [
      "['de', 'a', 'o', 'que', 'e', 'do', 'da', 'em', 'um', 'para', 'com', 'não', 'uma', 'os', 'no', 'se', 'na', 'por', 'mais', 'as', 'dos', 'como', 'mas', 'ao', 'ele', 'das', 'à', 'seu', 'sua', 'ou', 'quando', 'muito', 'nos', 'já', 'eu', 'também', 'só', 'pelo', 'pela', 'até', 'isso', 'ela', 'entre', 'depois', 'sem', 'mesmo', 'aos', 'seus', 'quem', 'nas', 'me', 'esse', 'eles', 'você', 'essa', 'num', 'nem', 'suas', 'meu', 'às', 'minha', 'numa', 'pelos', 'elas', 'qual', 'nós', 'lhe', 'deles', 'essas', 'esses', 'pelas', 'este', 'dele', 'tu', 'te', 'vocês', 'vos', 'lhes', 'meus', 'minhas', 'teu', 'tua', 'teus', 'tuas', 'nosso', 'nossa', 'nossos', 'nossas', 'dela', 'delas', 'esta', 'estes', 'estas', 'aquele', 'aquela', 'aqueles', 'aquelas', 'isto', 'aquilo', 'estou', 'está', 'estamos', 'estão', 'estive', 'esteve', 'estivemos', 'estiveram', 'estava', 'estávamos', 'estavam', 'estivera', 'estivéramos', 'esteja', 'estejamos', 'estejam', 'estivesse', 'estivéssemos', 'estivessem', 'estiver', 'estivermos', 'estiverem', 'hei', 'há', 'havemos', 'hão', 'houve', 'houvemos', 'houveram', 'houvera', 'houvéramos', 'haja', 'hajamos', 'hajam', 'houvesse', 'houvéssemos', 'houvessem', 'houver', 'houvermos', 'houverem', 'houverei', 'houverá', 'houveremos', 'houverão', 'houveria', 'houveríamos', 'houveriam', 'sou', 'somos', 'são', 'era', 'éramos', 'eram', 'fui', 'foi', 'fomos', 'foram', 'fora', 'fôramos', 'seja', 'sejamos', 'sejam', 'fosse', 'fôssemos', 'fossem', 'for', 'formos', 'forem', 'serei', 'será', 'seremos', 'serão', 'seria', 'seríamos', 'seriam', 'tenho', 'tem', 'temos', 'tém', 'tinha', 'tínhamos', 'tinham', 'tive', 'teve', 'tivemos', 'tiveram', 'tivera', 'tivéramos', 'tenha', 'tenhamos', 'tenham', 'tivesse', 'tivéssemos', 'tivessem', 'tiver', 'tivermos', 'tiverem', 'terei', 'terá', 'teremos', 'terão', 'teria', 'teríamos', 'teriam']\n"
     ]
    }
   ],
   "source": [
    "stopwords = nltk.corpus.stopwords.words('portuguese')\n",
    "print(stopwords)"
   ]
  },
  {
   "cell_type": "markdown",
   "metadata": {},
   "source": [
    "#Vamos treinar nosso modelo\n",
    "Criamos nosso dataset"
   ]
  },
  {
   "cell_type": "code",
   "execution_count": 33,
   "metadata": {
    "collapsed": true
   },
   "outputs": [],
   "source": [
    "def Train():\n",
    "    training_data = []\n",
    "    training_data.append({\"classe\":\"amor\", \"frase\":\"Eu te amo\"})\n",
    "    training_data.append({\"classe\":\"amor\", \"frase\":\"Você é o amor da minha vida\"})\n",
    "    training_data.append({\"classe\":\"medo\", \"frase\":\"estou com medo\"})\n",
    "    training_data.append({\"classe\":\"medo\", \"frase\":\"estou com medo\"})\n",
    "    training_data.append({\"classe\":\"medo\", \"frase\":\"estou assustada\"})\n",
    "    print(\"%s frases incluidas\" % len(training_data))\n",
    "    return training_data\n",
    "\n"
   ]
  },
  {
   "cell_type": "code",
   "execution_count": 34,
   "metadata": {},
   "outputs": [
    {
     "name": "stdout",
     "output_type": "stream",
     "text": [
      "5 frases incluidas\n"
     ]
    }
   ],
   "source": [
    "dados = Train()"
   ]
  },
  {
   "cell_type": "code",
   "execution_count": 35,
   "metadata": {
    "collapsed": true
   },
   "outputs": [],
   "source": [
    "def Learning(training_data):\n",
    "    corpus_words = {}\n",
    "    for data in training_data:\n",
    "        frase = data['frase']\n",
    "        frase = Tokenize(frase)\n",
    "        frase = Stemming(frase)\n",
    "        frase = RemoveStopWords(frase)\n",
    "        class_name = data['classe']\n",
    "        if class_name not in list(corpus_words.keys()):\n",
    "            corpus_words[class_name] = {}\n",
    "        for word in frase:\n",
    "            if word not in list(corpus_words[class_name].keys()):\n",
    "                corpus_words[class_name][word] = 1\n",
    "            else:\n",
    "                corpus_words[class_name][word] += 1\n",
    "    return corpus_words\n",
    "\n"
   ]
  },
  {
   "cell_type": "code",
   "execution_count": null,
   "metadata": {
    "collapsed": true
   },
   "outputs": [],
   "source": [
    "#Observamos que nesse momento podemos ver as palavras que mais aparecem em cada classe, e cada palavra tem um peso"
   ]
  },
  {
   "cell_type": "code",
   "execution_count": 36,
   "metadata": {},
   "outputs": [
    {
     "name": "stdout",
     "output_type": "stream",
     "text": [
      "{'amor': {'amo': 1, 'voc': 1, 'é': 1, 'am': 1, 'minh': 1, 'vid': 1}, 'medo': {'est': 3, 'med': 2, 'assust': 1}}\n"
     ]
    }
   ],
   "source": [
    "dados = Learning(dados)\n",
    "print(dados)"
   ]
  },
  {
   "cell_type": "code",
   "execution_count": null,
   "metadata": {
    "collapsed": true
   },
   "outputs": [],
   "source": [
    "#Função para calcular o score das nossas frases"
   ]
  },
  {
   "cell_type": "code",
   "execution_count": 49,
   "metadata": {
    "collapsed": true
   },
   "outputs": [],
   "source": [
    "def calculate_class_score(sentence,class_name):\n",
    "    score = 0 \n",
    "    sentence = Tokenize(sentence)\n",
    "    sentence = Stemming(sentence)\n",
    "    for word in sentence:\n",
    "        if word in dados[class_name]:\n",
    "            score += dados[class_name][word]\n",
    "    return score\n"
   ]
  },
  {
   "cell_type": "code",
   "execution_count": 51,
   "metadata": {},
   "outputs": [
    {
     "name": "stdout",
     "output_type": "stream",
     "text": [
      "0\n"
     ]
    }
   ],
   "source": [
    "score = calculate_class_score(\"tenho medo de baratas\", \"amor\")\n",
    "print(str(score))"
   ]
  },
  {
   "cell_type": "code",
   "execution_count": 52,
   "metadata": {
    "collapsed": true
   },
   "outputs": [],
   "source": [
    "def calculate_score(sentence):\n",
    "    high_score = 0\n",
    "    classname = 'default'\n",
    "    for classe in dados.keys():\n",
    "        pontos = 0\n",
    "        pontos = calculate_class_score(sentence,classe)\n",
    "        if pontos > high_score:\n",
    "            high_score = pontos\n",
    "            classname = classe\n",
    "    return classname,high_score\n"
   ]
  },
  {
   "cell_type": "code",
   "execution_count": 53,
   "metadata": {},
   "outputs": [
    {
     "name": "stdout",
     "output_type": "stream",
     "text": [
      "('medo', 1)\n"
     ]
    }
   ],
   "source": [
    "print (calculate_score('eu me assusto com aquela casa.'))\n"
   ]
  },
  {
   "cell_type": "code",
   "execution_count": null,
   "metadata": {
    "collapsed": true
   },
   "outputs": [],
   "source": []
  }
 ],
 "metadata": {
  "kernelspec": {
   "display_name": "Python 3",
   "language": "python",
   "name": "python3"
  },
  "language_info": {
   "codemirror_mode": {
    "name": "ipython",
    "version": 3
   },
   "file_extension": ".py",
   "mimetype": "text/x-python",
   "name": "python",
   "nbconvert_exporter": "python",
   "pygments_lexer": "ipython3",
   "version": "3.7.0"
  }
 },
 "nbformat": 4,
 "nbformat_minor": 2
}
